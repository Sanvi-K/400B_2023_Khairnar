{
 "cells": [
  {
   "cell_type": "code",
   "execution_count": 1,
   "metadata": {},
   "outputs": [],
   "source": [
    "# In Class Lab 6\n",
    "# Surface Brightness Profiles\n"
   ]
  },
  {
   "cell_type": "code",
   "execution_count": 2,
   "metadata": {},
   "outputs": [],
   "source": [
    "# Load Modules\n",
    "import numpy as np\n",
    "import astropy.units as u\n",
    "\n",
    "# import plotting modules\n",
    "import matplotlib.pyplot as plt\n",
    "import matplotlib\n",
    "%matplotlib inline\n",
    "\n",
    "# my modules\n",
    "from ReadFile import Read\n",
    "from CenterOfMass import CenterOfMass\n",
    "from MassProfile import MassProfile\n",
    "from GalaxyMass import ComponentMass"
   ]
  },
  {
   "cell_type": "markdown",
   "metadata": {},
   "source": [
    "# Lab 6: Sersic Profiles\n",
    "\n",
    "In this lab we will use Homework 5 solutions to compute the mass profile of the Milky Way's bulge. \n",
    "We will turn the mass profile into a density profile and see if we can fit it reasonably well \n",
    "with a sersic profile. "
   ]
  },
  {
   "cell_type": "markdown",
   "metadata": {},
   "source": [
    "# Part A : \n",
    "\n",
    "Create a function called `sersicE` that returns the Sersic Profile in terms of the effective radius $R_e$ (i.e. the half light radius).\n",
    "\n",
    "$I(r) = I_e exp^{-7.67 ( (r/R_e)^{1/n} - 1)}$\n",
    "\n",
    "Where \n",
    "\n",
    "$ L = 7.2 I_e \\pi R_e^2$\n",
    "\n",
    "and  $R_e$ is the half light radius.  We will assume a mass to light ratio for the stellar bulge of 1, so this is also the half mass radius.\n",
    "\n",
    "The function should take as input: the radius, $R_e$, $n$ and the total stellar mass of the system.\n"
   ]
  },
  {
   "cell_type": "code",
   "execution_count": 25,
   "metadata": {},
   "outputs": [],
   "source": [
    "def sersicE(r, re, n, mtot):\n",
    "    \"\"\" Function thata computes the sersic profile for an elliptical galaxy, \n",
    "        assuming M/L ~ 1. \n",
    "        \n",
    "        Parameters:\n",
    "            r: `float`\n",
    "                distance from the center of the galaxy in kpc\n",
    "            re : `float`\n",
    "                The effective radius (2D radius that contains half the light)\n",
    "                in kpc\n",
    "            n : `float`\n",
    "                sersic index\n",
    "            mtot : `float`\n",
    "                the total stellar mass in Msun\n",
    "        Returns:\n",
    "            I : `array of floats`\n",
    "                The surface brightness profile of the elliptical Lsun/kpc^2\n",
    "    \"\"\"\n",
    "    \n",
    "    # assuming M/L = 1, so total luminosity is, \n",
    "    lum = mtot\n",
    "    \n",
    "    # The effective surface brightness\n",
    "    Ie = lum/7.2/np.pi/re**2\n",
    "    \n",
    "    # the surface brightness  - sersic profile\n",
    "    a = (r/re)**(1/n)\n",
    "    b = -7.67*(a-1)\n",
    "    I = Ie * np.exp(b)\n",
    "    \n",
    "    return I\n"
   ]
  },
  {
   "cell_type": "markdown",
   "metadata": {},
   "source": [
    "# Part B\n",
    "\n",
    "a) Create an instance of the MassProfile Class for M31. Store it as a variable `M31`. \n"
   ]
  },
  {
   "cell_type": "code",
   "execution_count": 4,
   "metadata": {},
   "outputs": [],
   "source": [
    "M31 = MassProfile(\"M31\", 0) # input: galaxy, snap"
   ]
  },
  {
   "cell_type": "markdown",
   "metadata": {},
   "source": [
    "b) Create an array of radii from 0.1 kpc to 30 kpc in increments of 0.1\n"
   ]
  },
  {
   "cell_type": "code",
   "execution_count": 5,
   "metadata": {},
   "outputs": [],
   "source": [
    "r = np.arange(0.1, 30, 0.1)"
   ]
  },
  {
   "cell_type": "markdown",
   "metadata": {},
   "source": [
    "c) Define a new array called `bulge_mass`, that uses the function `MassEnclosed` within MassProfile to compute the mass profile of the bulge.  Get rid of astropy units in `bulge_mass` by adding `.value` \n"
   ]
  },
  {
   "cell_type": "code",
   "execution_count": 6,
   "metadata": {},
   "outputs": [],
   "source": [
    "bulge_mass = M31.massEnclosed(3.0, r).value # input: ptype, radii"
   ]
  },
  {
   "cell_type": "markdown",
   "metadata": {},
   "source": [
    "d) Compute the surface mass density profile for the simulated bulge and store it as an array called `bulge_I`. Assuming M/L ~ 1 this is also the surface brightness profile in Lsun/kpc^2"
   ]
  },
  {
   "cell_type": "code",
   "execution_count": 7,
   "metadata": {},
   "outputs": [],
   "source": [
    "bulge_I = bulge_mass/4/np.pi/r**2"
   ]
  },
  {
   "cell_type": "markdown",
   "metadata": {},
   "source": [
    "# Part C\n",
    "\n",
    "Compute $R_e$, the half mass radius, for the bulge"
   ]
  },
  {
   "cell_type": "code",
   "execution_count": 8,
   "metadata": {},
   "outputs": [
    {
     "name": "stdout",
     "output_type": "stream",
     "text": [
      " 1.90e+10\n"
     ]
    }
   ],
   "source": [
    "# total mass of bulge\n",
    "bulge_total = ComponentMass(\"M31_000.txt\", 3)*1e12\n",
    "print(f'{bulge_total: .2e}')"
   ]
  },
  {
   "cell_type": "code",
   "execution_count": 9,
   "metadata": {},
   "outputs": [
    {
     "name": "stdout",
     "output_type": "stream",
     "text": [
      "9500000000.0\n"
     ]
    }
   ],
   "source": [
    "# half the total bulge mass\n",
    "b_half = bulge_total/2\n",
    "print(b_half)"
   ]
  },
  {
   "cell_type": "code",
   "execution_count": 11,
   "metadata": {},
   "outputs": [
    {
     "name": "stdout",
     "output_type": "stream",
     "text": [
      "9669363719.999996\n"
     ]
    }
   ],
   "source": [
    "# where bulge mass is greater then hlf the total bulge mass\n",
    "index = np.where(bulge_mass > b_half)\n",
    "print(bulge_mass[index][0])"
   ]
  },
  {
   "cell_type": "code",
   "execution_count": 12,
   "metadata": {},
   "outputs": [
    {
     "name": "stdout",
     "output_type": "stream",
     "text": [
      "2.6\n"
     ]
    }
   ],
   "source": [
    "re_bulge = r[index][0]\n",
    "print(re_bulge)"
   ]
  },
  {
   "cell_type": "markdown",
   "metadata": {},
   "source": [
    "# Part D\n",
    "\n",
    "a) Plot the surface density profile of the simulated bulge\n",
    "\n",
    "b) Plot the Sersic profile, assuming a de Vaucouleurs Profile.\n",
    "\n",
    "c) If the profiles don't match, try changing either $R_e$ or $n$"
   ]
  },
  {
   "cell_type": "code",
   "execution_count": 38,
   "metadata": {},
   "outputs": [
    {
     "data": {
      "image/png": "[encoded data removed]",
      "text/plain": [
       "<Figure size 576x576 with 1 Axes>"
      ]
     },
     "metadata": {
      "needs_background": "light"
     },
     "output_type": "display_data"
    }
   ],
   "source": [
    "# Plot the Bulge density profile vs \n",
    "# the Sersic profile\n",
    "####################################\n",
    "\n",
    "\n",
    "fig = plt.figure(figsize=(8,8))\n",
    "ax = plt.subplot(111)\n",
    "\n",
    "\n",
    "# plot the bulge mass density as a proxy for surface brighntess\n",
    "plt.semilogy(r, bulge_I, color = \"black\", linewidth = \"3\", \n",
    "            label = \"Simulated Bulge\")\n",
    "\n",
    "# YOU ADD HERE: Sersic fit to the surface brightness Sersic fit\n",
    "# Sersic\n",
    "plt.semilogy(r, sersicE(r, re_bulge, 4, bulge_total), color=\"red\", linewidth=2, \n",
    "                       linestyle=\"-.\", label=\"Sersic = 4\") # de Vaucouleurs Profile, n=4\n",
    "\n",
    "plt.semilogy(r, sersicE(r, re_bulge, 5.35, bulge_total), color=\"blue\", linewidth=2, \n",
    "                       linestyle=\"-.\", label=\"Sersic = 5.35\") \n",
    "\n",
    "plt.semilogy(r, sersicE(r, re_bulge*1.5, 5.35, bulge_total), color=\"pink\", linewidth=2, \n",
    "                       linestyle=\"-.\", label=\"Sersic = 5.35, Re*1.5\")\n",
    "\n",
    "\n",
    "#adjust tick label font size\n",
    "label_size = 22\n",
    "matplotlib.rcParams['xtick.labelsize'] = label_size \n",
    "matplotlib.rcParams['ytick.labelsize'] = label_size\n",
    "\n",
    "\n",
    "# Add axis labels\n",
    "plt.xlabel('Radius (kpc)', fontsize=22)\n",
    "plt.ylabel('Log(I)  $L_\\odot/kpc^2$', fontsize=22)\n",
    "\n",
    "\n",
    "\n",
    "# add a legend with some customizations.\n",
    "legend = ax.legend(loc='upper right',fontsize='x-large')\n",
    "\n",
    "\n",
    "plt.savefig('Lab6.png')"
   ]
  },
  {
   "cell_type": "code",
   "execution_count": null,
   "metadata": {
    "collapsed": true
   },
   "outputs": [],
   "source": []
  }
 ],
 "metadata": {
  "kernelspec": {
   "display_name": "Python 3",
   "language": "python",
   "name": "python3"
  },
  "language_info": {
   "codemirror_mode": {
    "name": "ipython",
    "version": 3
   },
   "file_extension": ".py",
   "mimetype": "text/x-python",
   "name": "python",
   "nbconvert_exporter": "python",
   "pygments_lexer": "ipython3",
   "version": "3.8.8"
  }
 },
 "nbformat": 4,
 "nbformat_minor": 2
}
