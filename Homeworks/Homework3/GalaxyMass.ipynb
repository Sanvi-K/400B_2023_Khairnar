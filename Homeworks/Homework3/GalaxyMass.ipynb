{
 "cells": [
  {
   "cell_type": "code",
   "execution_count": 33,
   "id": "377fcf2b",
   "metadata": {},
   "outputs": [],
   "source": [
    "import numpy as np\n",
    "import astropy.units as u\n",
    "from ReadFile import Read\n",
    "from tabulate import tabulate\n",
    "import latextable"
   ]
  },
  {
   "cell_type": "code",
   "execution_count": 11,
   "id": "4fc2a56b",
   "metadata": {},
   "outputs": [],
   "source": [
    "def ComponentMass(filename, particle_type):\n",
    "    \"\"\" This function returns the total mass of any galaxy component \n",
    "        from a given txt file with mass of each particle in the galaxy.\n",
    "        \n",
    "        Inputs: \n",
    "            filename: 'string'\n",
    "                name of text file from which data need to be extracted\n",
    "            \n",
    "            particle_type: 'float'\n",
    "                a float value specifies the type of the particle\n",
    "                1.0 = dark matter\n",
    "                2.0 = disk star\n",
    "                3.0 = bulge star\n",
    "        \n",
    "        Output:\n",
    "            totalmass: 'astropy quantity'\n",
    "                total mass of the galaxy component in units of \n",
    "                10e12 Msun, rounded to 3 decimal places                \n",
    "    \"\"\"\n",
    "    # extract the data array from a predefined function\n",
    "    data = (Read(filename)[2])\n",
    "    \n",
    "    # create new indexing based on the particle type \n",
    "    if (particle_type == 1.0): \n",
    "        index = np.where(data[\"type\"]==1.0)\n",
    "    if (particle_type == 2.0):    \n",
    "        index = np.where(data[\"type\"]==2.0)\n",
    "    if (particle_type == 3.0):    \n",
    "        index = np.where(data[\"type\"]==3.0)\n",
    "        \n",
    "    mass_array = data['m'][index] # define new arrays with mass of only\n",
    "                            # required partcile type\n",
    "    \n",
    "    # Add mass of all particles of a given type to get the total mass\n",
    "    mass = 0 \n",
    "    for particle_mass in mass_array:\n",
    "        mass = mass + particle_mass\n",
    "    \n",
    "    # mass is given in units of 1e10 Msun\n",
    "    totalmass = mass*1e10*u.M_sun.to(1e12*u.Msun) # add required units \n",
    "    totalmass = np.around(totalmass,3) # round to 3 decimal places\n",
    "    \n",
    "    return totalmass"
   ]
  },
  {
   "cell_type": "code",
   "execution_count": 16,
   "id": "c60c8e88",
   "metadata": {},
   "outputs": [],
   "source": [
    "# Mass of each component for MW galaxy\n",
    "\n",
    "MW_Halo = ComponentMass(\"MW_000.txt\",1.0)\n",
    "MW_Disk = ComponentMass(\"MW_000.txt\",2.0)\n",
    "MW_Bulge = ComponentMass(\"MW_000.txt\",3.0)\n",
    "MW_Total = MW_Halo+MW_Disk+MW_Bulge\n",
    "\n",
    "# baryon fraction for MW\n",
    "MW_f = np.round(((MW_Disk+MW_Bulge)/MW_Total), 3) "
   ]
  },
  {
   "cell_type": "code",
   "execution_count": 17,
   "id": "968d196a",
   "metadata": {},
   "outputs": [],
   "source": [
    "# Mass of each component for M31 galaxy\n",
    "\n",
    "M31_Halo = ComponentMass(\"M31_000.txt\",1.0)\n",
    "M31_Disk = ComponentMass(\"M31_000.txt\",2.0)\n",
    "M31_Bulge = ComponentMass(\"M31_000.txt\",3.0)\n",
    "M31_Total = M31_Halo+M31_Disk+M31_Bulge\n",
    "\n",
    "# baryon fraction for M31\n",
    "M31_f = np.round(((M31_Disk+M31_Bulge)/M31_Total), 3) "
   ]
  },
  {
   "cell_type": "code",
   "execution_count": 18,
   "id": "f1df1e2f",
   "metadata": {},
   "outputs": [],
   "source": [
    "# Mass of each component for M33 galaxy\n",
    "\n",
    "M33_Halo = ComponentMass(\"M33_000.txt\",1.0)\n",
    "M33_Disk = ComponentMass(\"M33_000.txt\",2.0)\n",
    "M33_Bulge = ComponentMass(\"M33_000.txt\",3.0)\n",
    "M33_Total = M33_Halo+M33_Disk+M33_Bulge\n",
    "\n",
    "M33_f = np.round(((M33_Disk+M33_Bulge)/M33_Total),3) # baryon fraction for M33"
   ]
  },
  {
   "cell_type": "code",
   "execution_count": 19,
   "id": "f1c818c3",
   "metadata": {},
   "outputs": [],
   "source": [
    "# Mass for local Group\n",
    "\n",
    "Local_Halo = MW_Halo + M31_Halo +M33_Halo\n",
    "Local_Disk = MW_Disk +M31_Disk + M33_Disk\n",
    "Local_Bulge = MW_Bulge +M31_Bulge + M33_Bulge\n",
    "Local_Total = Local_Halo + Local_Disk + Local_Bulge\n",
    "\n",
    "# baryon fraction Local Group\n",
    "Local_f = np.round(((Local_Disk+Local_Bulge)/Local_Total), 3) "
   ]
  },
  {
   "cell_type": "code",
   "execution_count": 43,
   "id": "19609e09",
   "metadata": {},
   "outputs": [
    {
     "name": "stdout",
     "output_type": "stream",
     "text": [
      "╒═══════════════╤════════════════════╤════════════════════╤════════════════════╤════════════════════╤═══════════╕\n",
      "│ Galaxy name   │         Halo mass  │         Disk Mass  │        Bulge Mass  │        Total Mass  │   f_(bar) │\n",
      "│               │    [10^{12} M_sun] │    [10^{12} M_sun] │    [10^{12} M_sun] │    [10^{12} M_sun] │           │\n",
      "╞═══════════════╪════════════════════╪════════════════════╪════════════════════╪════════════════════╪═══════════╡\n",
      "│ Milky Way     │              1.975 │              0.075 │              0.01  │              2.06  │     0.041 │\n",
      "├───────────────┼────────────────────┼────────────────────┼────────────────────┼────────────────────┼───────────┤\n",
      "│ M31           │              1.921 │              0.12  │              0.019 │              2.06  │     0.067 │\n",
      "├───────────────┼────────────────────┼────────────────────┼────────────────────┼────────────────────┼───────────┤\n",
      "│ M33           │              0.187 │              0.009 │              0     │              0.196 │     0.046 │\n",
      "├───────────────┼────────────────────┼────────────────────┼────────────────────┼────────────────────┼───────────┤\n",
      "│ Local Group   │              4.083 │              0.204 │              0.029 │              4.316 │     0.054 │\n",
      "╘═══════════════╧════════════════════╧════════════════════╧════════════════════╧════════════════════╧═══════════╛\n"
     ]
    }
   ],
   "source": [
    "# Column names for table\n",
    "Column_names = [\"Galaxy name\", \"Halo mass \\n [10^{12} M_sun]\", \n",
    "                'Disk Mass \\n [10^{12} M_sun]', \n",
    "                \"Bulge Mass \\n [10^{12} M_sun]\", \n",
    "               \"Total Mass \\n [10^{12} M_sun]\", \"f_(bar)\"]\n",
    "\n",
    "# Data Array for table\n",
    "Data = [[\"Milky Way\",MW_Halo,MW_Disk, MW_Bulge, MW_Total, MW_f], \n",
    "        [\"M31\",M31_Halo,M31_Disk, M31_Bulge, M31_Total, M31_f], \n",
    "        [\"M33\",M33_Halo,M33_Disk, M33_Bulge, M33_Total, M33_f],\n",
    "        [\"Local Group\", Local_Halo, Local_Disk, Local_Bulge, Local_Total, Local_f]]\n",
    "\n",
    "# create table\n",
    "'''\n",
    "# latex for table\n",
    "print('\\nTabulate Latex:')\n",
    "print(tabulate(Data, headers=Column_names, tablefmt='latex'))\n",
    "'''\n",
    "print(tabulate(Data, headers=Column_names, tablefmt=\"fancy_grid\"))"
   ]
  },
  {
   "cell_type": "markdown",
   "id": "a6d567d3",
   "metadata": {},
   "source": [
    "## Questions 4\n",
    "\n",
    "#### 1]\n",
    "Total Mass of both Milky Way and M31 is $2.06*10^{12} M_\\odot$. They both have approximately same total mass and for both galaxies, the maojority of the mass is dominated y dark matter halo. \n",
    "\n",
    "#### 2]\n",
    "Milky Way has a stellar mass of $0.085*10^{12} M_\\odot$ while M31 has stellar mass of $0.139*10^{12} M_\\odot$. M31 has slightly higher stellar mass than Milky Way. Since M31 has more stellar mass it should be comparitively more luminuous than Milky Way.\n",
    "\n",
    "#### 3]"
   ]
  },
  {
   "cell_type": "code",
   "execution_count": 25,
   "id": "92feb05f",
   "metadata": {},
   "outputs": [
    {
     "name": "stdout",
     "output_type": "stream",
     "text": [
      "1.028110359187923\n"
     ]
    }
   ],
   "source": [
    "HaloRatio_MW_M31 = MW_Halo/M31_Halo\n",
    "print(HaloRatio_MW_M31)"
   ]
  },
  {
   "cell_type": "markdown",
   "id": "f202446f",
   "metadata": {},
   "source": [
    "Milky Way has slightly larger fraction of Dark Matter Mass than M31 which is expected as for the same total mass, M31 has a slightly larger stellar mass.\n",
    "\n",
    "#### 4]\n",
    "From the table we can se that for each galaxy the baryonic fraction $f_{bar}$ is,\n",
    "\n",
    "Milky Way : 0.041 \n",
    "\n",
    "M31 : 0.067       \n",
    "M33 : 0.046       \n",
    "Local Group : 0.054\n",
    "\n",
    "For all the galaxies this ratio is approximately (4-6)%. However, in universe ~16% of fraction is baryonic matter. This is 4 times than what we computed to be in a galaxy.\n",
    "There is smmaler fraction of dark matter compared to baryonic matter in universe than in galaxies. This could be beacuse, in galaxies the dark matter halo are densely bounded to the galaxy but in larger scales of universe, the ratio does not hold. "
   ]
  }
 ],
 "metadata": {
  "kernelspec": {
   "display_name": "Python 3",
   "language": "python",
   "name": "python3"
  },
  "language_info": {
   "codemirror_mode": {
    "name": "ipython",
    "version": 3
   },
   "file_extension": ".py",
   "mimetype": "text/x-python",
   "name": "python",
   "nbconvert_exporter": "python",
   "pygments_lexer": "ipython3",
   "version": "3.8.8"
  }
 },
 "nbformat": 4,
 "nbformat_minor": 5
}
