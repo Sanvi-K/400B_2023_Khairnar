{
 "cells": [
  {
   "cell_type": "code",
   "execution_count": 1,
   "id": "586e21e0",
   "metadata": {},
   "outputs": [],
   "source": [
    "import numpy as np\n",
    "import astropy.units as u"
   ]
  },
  {
   "cell_type": "code",
   "execution_count": 2,
   "id": "b7f290d7",
   "metadata": {},
   "outputs": [],
   "source": [
    "def Read(filename):\n",
    "    \"\"\" This function reads text file and return the time and total number of particles. \n",
    "        It also gives a data array with information of particle type, mass(in 1e10 Msun), 'x', 'y', 'z' position(in kpc) \n",
    "        and the velocities in x,y,z direction (in km/s)\n",
    "    \n",
    "        Inputs:\n",
    "        filename: 'string'\n",
    "            name of text file from which data need to be extracted\n",
    "        \n",
    "        Outputs:\n",
    "        time: 'astropy quantity'\n",
    "            time of the snapshot of the data in the text file\n",
    "        number of particles: 'int'\n",
    "            number of particles in the txt file with their data available\n",
    "        data: 'numpy array'\n",
    "            information with mass of each particle and their positions, and velocities in x,y,z directions \n",
    "    \n",
    "    \"\"\"\n",
    "    file = open(filename,'r') # open the file\n",
    "    line1 = file.readline() # read first line in the file\n",
    "    label, value = line1.split() # split the line to read the label and the numerical value\n",
    "    time = float(value)*u.Myr # add units to the time\n",
    "    \n",
    "    line2 = file.readlines()[0] # read second line in the file\n",
    "    label, value = line2.split() # split the line to read the label and the numerical value\n",
    "    number_of_particles = int(value) # specify that the value is an integer and rename it\n",
    "    \n",
    "    file.close()\n",
    "    \n",
    "    data = np.genfromtxt(filename, dtype=None, names=True, skip_header=3) # get remaining of the data for each particle\n",
    "    \n",
    "    return(time, number_of_particles,data)"
   ]
  }
 ],
 "metadata": {
  "kernelspec": {
   "display_name": "Python 3",
   "language": "python",
   "name": "python3"
  },
  "language_info": {
   "codemirror_mode": {
    "name": "ipython",
    "version": 3
   },
   "file_extension": ".py",
   "mimetype": "text/x-python",
   "name": "python",
   "nbconvert_exporter": "python",
   "pygments_lexer": "ipython3",
   "version": "3.8.8"
  }
 },
 "nbformat": 4,
 "nbformat_minor": 5
}
