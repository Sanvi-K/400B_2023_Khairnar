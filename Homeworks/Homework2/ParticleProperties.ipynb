{
 "cells": [
  {
   "cell_type": "code",
   "execution_count": 21,
   "id": "4c61cf2c",
   "metadata": {},
   "outputs": [],
   "source": [
    "import numpy as np\n",
    "import astropy.units as u\n",
    "from ReadFile import Read"
   ]
  },
  {
   "cell_type": "code",
   "execution_count": 22,
   "id": "dce40d42",
   "metadata": {},
   "outputs": [],
   "source": [
    "def ParticleInfo(filename, particle_type, particle_number):\n",
    "    \"\"\" Given the type of the particle (Dark matter, disk star, bulge star) and its number within the type,\n",
    "        this function returns the properties of any given particle from a given txt file.\n",
    "        \n",
    "        Inputs:\n",
    "        filename: 'string'\n",
    "            name of text file from which data need to be extracted\n",
    "            \n",
    "        particle_type: 'float'\n",
    "            a float value specifies the type of the particle\n",
    "                1.0 = dark matter\n",
    "                2.0 = disk star\n",
    "                3.0 = bulge star\n",
    "        \n",
    "        particle_number: 'int'\n",
    "            the number of particle for a specific particle type\n",
    "            \n",
    "        Outputs:\n",
    "            Distance: 'astropy quantity'\n",
    "                The 3D distance of the particle from the Galactic center (in kpc)\n",
    "                \n",
    "            Velocity: 'astropy quantity'\n",
    "                The 3D velocity of the partcile in v direction (in km/s)\n",
    "                \n",
    "            Mass: 'astropy quantity'\n",
    "                The mass of the particle (in Msun)\n",
    "    \"\"\"\n",
    "    # extract the data array from a predefined function\n",
    "    data = (Read(filename)[2])\n",
    "    \n",
    "    # create new indexing based on the particle type \n",
    "    if (particle_type == 1.0): \n",
    "        index = np.where(data[\"type\"]==1.0)\n",
    "    if (particle_type == 2.0):    \n",
    "        index = np.where(data[\"type\"]==2.0)\n",
    "    if (particle_type == 3.0):    \n",
    "        index = np.where(data[\"type\"]==3.0)\n",
    "    \n",
    "    # define new arrays with reqiured position values based on new index\n",
    "    xnew = data['x'][index]\n",
    "    ynew = data['y'][index]\n",
    "    znew = data['z'][index]\n",
    "    # get the position value in each direction (x,y,z), and round it to 3 decimals\n",
    "    x = np.around(xnew[particle_number-1], 3) # index of [particle_number-1] as 1 particle in the array has index 0\n",
    "    y = np.around(ynew[particle_number-1], 3) \n",
    "    z = np.around(znew[particle_number-1], 3) \n",
    "    \n",
    "    dist = (x**2+y**2+z**2)**(1/2) # compute the 3 dimensional distance of the particle\n",
    "    Distance = float(dist) * u.kpc # convert to astropy quantity with units in kpc\n",
    "   \n",
    "    # define new arrays with reqiured velocity values based on new index\n",
    "    vxnew = data['vx'][index]\n",
    "    vynew = data['vy'][index]\n",
    "    vznew = data['vz'][index]\n",
    "    # get the velocity value in each direction (x,y,z), and round it to 3 decimals\n",
    "    vx = np.around(vxnew[particle_number-1], 3) \n",
    "    vy = np.around(vynew[particle_number-1], 3) \n",
    "    vz = np.around(vznew[particle_number-1], 3)\n",
    "    \n",
    "    vel = (vx**2+vy**2+vz**2)**(1/2) # compute the 3 dimensional velocity of the particle\n",
    "    Velocity = float(vel)*u.kilometer/u.second # convert to astropy quantity with units in km/s\n",
    "    \n",
    "    M_sun = 1.988e30 # mass of the Sun\n",
    "    mnew = data['m'][index] # define new arrays with reqiured velocity values based on new index\n",
    "    converted_mass = mnew[particle_number-1]*1e-10*M_sun # Convert mass of the particle from 1e10 kg to Msun\n",
    "    Mass = (converted_mass) * u.M_sun # convert to astropy quantity with units in Msun\n",
    "    \n",
    "    return(Distance, Velocity, Mass)"
   ]
  },
  {
   "cell_type": "code",
   "execution_count": 25,
   "id": "171cd16e",
   "metadata": {},
   "outputs": [
    {
     "name": "stdout",
     "output_type": "stream",
     "text": [
      "(<Quantity 792.63678496 kpc>, <Quantity 89.12449004 km / s>, <Quantity 7.8523018e+17 solMass>)\n",
      "2585235.426 lyr\n"
     ]
    }
   ],
   "source": [
    "solution = ParticleInfo(\"MW_000.txt\",1.0, 100) \n",
    "\n",
    "Distance_in_kpc = ParticleInfo(\"MW_000.txt\",1.0, 100)[0] # get the distance of required particle\n",
    "Distance_in_lyr = Distance_in_kpc.to(u.lyr) # convert units from kpc to lyrs for the distance\n",
    "distance = np.around(Distance_in_lyr, 3) # approximate the distance to 3 decimal places\n",
    "\n",
    "print(solution[0:3]) # solution for question 5 : \n",
    "                     # prints the distance(in kpc), velocity(in km/s) and mass (in Msun) of given particle \n",
    "print(distance) # distance for the same particle in units light years"
   ]
  }
 ],
 "metadata": {
  "kernelspec": {
   "display_name": "Python 3",
   "language": "python",
   "name": "python3"
  },
  "language_info": {
   "codemirror_mode": {
    "name": "ipython",
    "version": 3
   },
   "file_extension": ".py",
   "mimetype": "text/x-python",
   "name": "python",
   "nbconvert_exporter": "python",
   "pygments_lexer": "ipython3",
   "version": "3.8.8"
  }
 },
 "nbformat": 4,
 "nbformat_minor": 5
}
